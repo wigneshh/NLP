{
  "nbformat": 4,
  "nbformat_minor": 0,
  "metadata": {
    "colab": {
      "provenance": [],
      "authorship_tag": "ABX9TyNBtzZK0MH63coWr1jtP3DK",
      "include_colab_link": true
    },
    "kernelspec": {
      "name": "python3",
      "display_name": "Python 3"
    },
    "language_info": {
      "name": "python"
    }
  },
  "cells": [
    {
      "cell_type": "markdown",
      "metadata": {
        "id": "view-in-github",
        "colab_type": "text"
      },
      "source": [
        "<a href=\"https://colab.research.google.com/github/wigneshh/NLP/blob/main/Assignment-3.ipynb\" target=\"_parent\"><img src=\"https://colab.research.google.com/assets/colab-badge.svg\" alt=\"Open In Colab\"/></a>"
      ]
    },
    {
      "cell_type": "markdown",
      "source": [
        "1. Implement Word Embeddings on following text\n",
        "    words = ['king', 'queen', 'man', 'woman', 'paris', 'france', 'london', 'england']"
      ],
      "metadata": {
        "id": "JKuBsWhiHGNI"
      }
    },
    {
      "cell_type": "code",
      "execution_count": 1,
      "metadata": {
        "colab": {
          "base_uri": "https://localhost:8080/"
        },
        "id": "RHLq_Us6EuR_",
        "outputId": "243d8dab-724f-4417-d079-334aec7a05d4"
      },
      "outputs": [
        {
          "output_type": "stream",
          "name": "stdout",
          "text": [
            "[==================================================] 100.0% 128.1/128.1MB downloaded\n",
            "Words most similar to 'king':\n",
            "prince: 0.7682\n",
            "queen: 0.7508\n",
            "son: 0.7021\n",
            "brother: 0.6986\n",
            "monarch: 0.6978\n",
            "throne: 0.6920\n",
            "kingdom: 0.6811\n",
            "father: 0.6802\n",
            "emperor: 0.6713\n",
            "ii: 0.6676\n",
            "\n",
            "Words most similar to 'queen':\n",
            "princess: 0.7947\n",
            "king: 0.7508\n",
            "elizabeth: 0.7356\n",
            "royal: 0.7065\n",
            "lady: 0.7045\n",
            "victoria: 0.6854\n",
            "monarch: 0.6683\n",
            "crown: 0.6681\n",
            "prince: 0.6641\n",
            "consort: 0.6571\n",
            "\n",
            "Words most similar to 'man':\n",
            "woman: 0.8323\n",
            "boy: 0.7915\n",
            "one: 0.7789\n",
            "person: 0.7527\n",
            "another: 0.7522\n",
            "old: 0.7409\n",
            "life: 0.7372\n",
            "father: 0.7370\n",
            "turned: 0.7348\n",
            "who: 0.7346\n",
            "\n",
            "Words most similar to 'woman':\n",
            "girl: 0.8473\n",
            "man: 0.8323\n",
            "mother: 0.8276\n",
            "boy: 0.7721\n",
            "she: 0.7632\n",
            "child: 0.7602\n",
            "wife: 0.7505\n",
            "her: 0.7446\n",
            "herself: 0.7426\n",
            "daughter: 0.7264\n",
            "\n",
            "Words most similar to 'paris':\n",
            "prohertrib: 0.7994\n",
            "france: 0.7482\n",
            "london: 0.7338\n",
            "brussels: 0.7038\n",
            "french: 0.6931\n",
            "rome: 0.6879\n",
            "amsterdam: 0.6758\n",
            "vienna: 0.6608\n",
            "berlin: 0.6586\n",
            "madrid: 0.6284\n",
            "\n",
            "Words most similar to 'france':\n",
            "belgium: 0.8076\n",
            "french: 0.8004\n",
            "britain: 0.7951\n",
            "spain: 0.7557\n",
            "paris: 0.7482\n",
            "germany: 0.7294\n",
            "italy: 0.7164\n",
            "europe: 0.7097\n",
            "netherlands: 0.7073\n",
            "luxembourg: 0.6757\n",
            "\n",
            "Words most similar to 'london':\n",
            "sydney: 0.7536\n",
            "paris: 0.7338\n",
            "melbourne: 0.7044\n",
            "york: 0.6945\n",
            "dublin: 0.6913\n",
            "edinburgh: 0.6831\n",
            "prohertrib: 0.6786\n",
            "glasgow: 0.6696\n",
            "british: 0.6597\n",
            "britain: 0.6527\n",
            "\n",
            "Words most similar to 'england':\n",
            "scotland: 0.8307\n",
            "wales: 0.8128\n",
            "australia: 0.7859\n",
            "ireland: 0.7624\n",
            "indies: 0.7226\n",
            "manchester: 0.7210\n",
            "zealand: 0.7200\n",
            "cricket: 0.7174\n",
            "newcastle: 0.6888\n",
            "leeds: 0.6885\n",
            "\n"
          ]
        }
      ],
      "source": [
        "\n",
        "import gensim.downloader as api\n",
        "word_vectors = api.load(\"glove-wiki-gigaword-100\")\n",
        "words = ['king', 'queen', 'man', 'woman', 'paris', 'france', 'london', 'england']\n",
        "def explore_embeddings(word_list):\n",
        "    for word in word_list:\n",
        "        if word in word_vectors:\n",
        "            print(f\"Words most similar to '{word}':\")\n",
        "            similar_words = word_vectors.most_similar(word)\n",
        "            for similar_word, similarity in similar_words:\n",
        "                print(f\"{similar_word}: {similarity:.4f}\")\n",
        "            print()\n",
        "        else:\n",
        "            print(f\"'{word}' not found in the vocabulary.\")\n",
        "explore_embeddings(words)"
      ]
    },
    {
      "cell_type": "markdown",
      "source": [
        "2. Implement Word Embeddings using PCA (Principal Component Analysis) on following text\n",
        "    words = ['king', 'queen', 'man', 'woman', 'paris', 'france', 'london', 'england']."
      ],
      "metadata": {
        "id": "v0a9lctcHd0w"
      }
    },
    {
      "cell_type": "code",
      "source": [
        "import gensim.downloader as api\n",
        "import matplotlib.pyplot as plt\n",
        "from sklearn.decomposition import PCA\n",
        "\n",
        "# Load pre-trained word vectors (Word Embeddings)\n",
        "word_vectors = api.load(\"glove-wiki-gigaword-100\")  # Using GloVe embeddings with 100-dimensional vectors\n",
        "\n",
        "# List of words to explore\n",
        "words = ['king', 'queen', 'man', 'woman', 'paris', 'france', 'london', 'england']\n",
        "\n",
        "# Extract vectors for the words\n",
        "word_vecs = [word_vectors[word] for word in words if word in word_vectors]\n",
        "\n",
        "# Apply PCA to reduce dimensionality to 2D\n",
        "pca = PCA(n_components=2)\n",
        "result = pca.fit_transform(word_vecs)\n",
        "\n",
        "# Plotting\n",
        "plt.figure(figsize=(10, 8))\n",
        "plt.scatter(result[:, 0], result[:, 1], c='red')\n",
        "\n",
        "for i, word in enumerate(words):\n",
        "    if word in word_vectors:\n",
        "        plt.text(result[i, 0], result[i, 1], word, fontsize=12)\n",
        "\n",
        "plt.title('2D PCA of Word Embeddings')\n",
        "plt.xlabel('Principal Component 1')\n",
        "plt.ylabel('Principal Component 2')\n",
        "plt.grid(True)\n",
        "plt.show()"
      ],
      "metadata": {
        "colab": {
          "base_uri": "https://localhost:8080/",
          "height": 718
        },
        "id": "Dbu4N3DtFow6",
        "outputId": "4bccc2be-34a4-4892-f58a-4f11fa907126"
      },
      "execution_count": 2,
      "outputs": [
        {
          "output_type": "display_data",
          "data": {
            "text/plain": [
              "<Figure size 1000x800 with 1 Axes>"
            ],
            "image/png": "[encoded data removed]"
          },
          "metadata": {}
        }
      ]
    },
    {
      "cell_type": "markdown",
      "source": [
        "3. Execute Dependency Parsing on any text or on following text\n",
        "The quick brown fox jumps over the lazy dog"
      ],
      "metadata": {
        "id": "7ByO4ACtHol2"
      }
    },
    {
      "cell_type": "code",
      "source": [
        "import spacy\n",
        "\n",
        "# Load the spaCy model\n",
        "nlp = spacy.load(\"en_core_web_sm\")\n",
        "\n",
        "# Text to parse\n",
        "text = \"The quick brown fox jumps over the lazy dog\"\n",
        "\n",
        "# Process the text with spaCy\n",
        "doc = nlp(text)\n",
        "\n",
        "# Print dependency parsing results\n",
        "print(\"Token\\tLemma\\tPOS\\tDependency\\tHead\")\n",
        "print(\"=\"*50)\n",
        "for token in doc:\n",
        "    print(f\"{token.text}\\t{token.lemma_}\\t{token.pos_}\\t{token.dep_}\\t{token.head.text}\")"
      ],
      "metadata": {
        "colab": {
          "base_uri": "https://localhost:8080/"
        },
        "id": "EyyZeCbOF8mw",
        "outputId": "7e5cf3f9-66e0-4a9e-a950-f39641e488ed"
      },
      "execution_count": 3,
      "outputs": [
        {
          "output_type": "stream",
          "name": "stdout",
          "text": [
            "Token\tLemma\tPOS\tDependency\tHead\n",
            "==================================================\n",
            "The\tthe\tDET\tdet\tfox\n",
            "quick\tquick\tADJ\tamod\tfox\n",
            "brown\tbrown\tADJ\tamod\tfox\n",
            "fox\tfox\tNOUN\tnsubj\tjumps\n",
            "jumps\tjump\tVERB\tROOT\tjumps\n",
            "over\tover\tADP\tprep\tjumps\n",
            "the\tthe\tDET\tdet\tdog\n",
            "lazy\tlazy\tADJ\tamod\tdog\n",
            "dog\tdog\tNOUN\tpobj\tover\n"
          ]
        }
      ]
    }
  ]
}